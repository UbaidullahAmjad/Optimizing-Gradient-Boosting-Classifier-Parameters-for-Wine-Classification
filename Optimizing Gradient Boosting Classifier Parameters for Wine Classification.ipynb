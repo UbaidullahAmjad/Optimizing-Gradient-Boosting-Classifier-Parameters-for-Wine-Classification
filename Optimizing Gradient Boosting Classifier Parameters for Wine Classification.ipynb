{
 "cells": [
  {
   "cell_type": "markdown",
   "metadata": {},
   "source": [
    "# Optimizing Gradient Boosting Classifier Parameters for Wine Classification"
   ]
  },
  {
   "cell_type": "code",
   "execution_count": 9,
   "metadata": {},
   "outputs": [
    {
     "name": "stdout",
     "output_type": "stream",
     "text": [
      "\n",
      "Optimizing parameters using RandomizedSearchCV\n",
      "\n",
      "Best Parameters:\n",
      "{'subsample': 0.75, 'n_estimators': 500, 'max_depth': 4, 'learning_rate': 0.5}\n"
     ]
    },
    {
     "data": {
      "image/png": "[encoded data removed]",
      "text/plain": [
       "<Figure size 640x480 with 2 Axes>"
      ]
     },
     "metadata": {},
     "output_type": "display_data"
    },
    {
     "name": "stdout",
     "output_type": "stream",
     "text": [
      "Accuracy: 0.9777777777777777\n",
      "Confusion Matrix:\n",
      "[[15  0  0]\n",
      " [ 1 17  0]\n",
      " [ 0  0 12]]\n"
     ]
    }
   ],
   "source": [
    "import matplotlib.pyplot as plt\n",
    "import numpy as np\n",
    "from sklearn import datasets\n",
    "from sklearn.model_selection import train_test_split\n",
    "from sklearn.ensemble import GradientBoostingClassifier\n",
    "from sklearn.metrics import accuracy_score, confusion_matrix\n",
    "from scikitplot.metrics import plot_confusion_matrix\n",
    "from sklearn.model_selection import RandomizedSearchCV\n",
    "def optimize_parameters(): \n",
    "    print(\"\\nOptimizing parameters using RandomizedSearchCV\\n\")    \n",
    "    \n",
    "    # Load the wine dataset\n",
    "    dataset = datasets.load_wine()\n",
    "    X = dataset.data\n",
    "    y = dataset.target\n",
    "\n",
    "    # Split the dataset into training and testing sets\n",
    "    X_train, X_test, y_train, y_test = train_test_split(X, y, test_size=0.25, random_state=42)\n",
    "\n",
    "    # Define the model\n",
    "    model = GradientBoostingClassifier()\n",
    "\n",
    "    # Define the parameters to optimize\n",
    "    parameters = {'learning_rate': [0.1, 0.5, 1.0],\n",
    "                  'subsample': [0.5, 0.75, 1.0],\n",
    "                  'n_estimators': [100, 500, 1000],\n",
    "                  'max_depth': [4, 6, 8]}\n",
    "\n",
    "    # Define the RandomizedSearchCV object\n",
    "    randm = RandomizedSearchCV(estimator=model, param_distributions=parameters, \n",
    "                               cv=3, n_iter=10, n_jobs=-1, random_state=42)\n",
    "\n",
    "    # Fit the model with the best parameters\n",
    "    best_model = randm.fit(X_train, y_train)\n",
    "    best_params = best_model.best_params_\n",
    "\n",
    "    # Print the best parameters\n",
    "    print(\"Best Parameters:\")\n",
    "    print(best_params)\n",
    "\n",
    "    # Make predictions on the test set using the best model\n",
    "    y_pred = best_model.predict(X_test)\n",
    "\n",
    "    # Evaluate the model\n",
    "    accuracy = accuracy_score(y_test, y_pred)\n",
    "    confusion = confusion_matrix(y_test, y_pred)\n",
    "\n",
    "    # Plot confusion matrix\n",
    "    plot_confusion_matrix(y_test, y_pred, title=\"Confusion Matrix\")\n",
    "    plt.xlabel(\"Predicted label\")\n",
    "    plt.ylabel(\"True label\")\n",
    "    plt.show()\n",
    "\n",
    "    print(\"Accuracy:\", accuracy)\n",
    "    print(\"Confusion Matrix:\")\n",
    "    print(confusion)\n",
    "\n",
    "optimize_parameters()\n"
   ]
  },
  {
   "cell_type": "code",
   "execution_count": null,
   "metadata": {},
   "outputs": [],
   "source": []
  }
 ],
 "metadata": {
  "kernelspec": {
   "display_name": "Python 3 (ipykernel)",
   "language": "python",
   "name": "python3"
  },
  "language_info": {
   "codemirror_mode": {
    "name": "ipython",
    "version": 3
   },
   "file_extension": ".py",
   "mimetype": "text/x-python",
   "name": "python",
   "nbconvert_exporter": "python",
   "pygments_lexer": "ipython3",
   "version": "3.10.9"
  }
 },
 "nbformat": 4,
 "nbformat_minor": 2
}
